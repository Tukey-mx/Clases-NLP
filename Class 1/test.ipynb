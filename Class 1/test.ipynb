{
 "cells": [
  {
   "cell_type": "code",
   "execution_count": 33,
   "id": "3d93a645",
   "metadata": {},
   "outputs": [],
   "source": [
    "oracion = \"El perro!!!!!! come croquetas\"\n",
    "\n",
    "stopwords = ['el', 'la', 'o', 'y', 'que']\n",
    "caracteres = [',', '.', '!', '?', '¿']\n",
    "\n",
    "# Eliminar stopwords de la oración"
   ]
  },
  {
   "cell_type": "code",
   "execution_count": 35,
   "id": "82fd9c09",
   "metadata": {},
   "outputs": [
    {
     "name": "stdout",
     "output_type": "stream",
     "text": [
      "El perro!!!!!! come croquetas\n"
     ]
    },
    {
     "data": {
      "text/plain": [
       "'El perro come croquetas'"
      ]
     },
     "execution_count": 35,
     "metadata": {},
     "output_type": "execute_result"
    }
   ],
   "source": [
    "print(oracion)\n",
    "oracion = ''.join([c for c in oracion if c not in caracteres])\n",
    "    \n",
    "\n",
    "oracion"
   ]
  },
  {
   "cell_type": "code",
   "execution_count": 36,
   "id": "f5d39c37",
   "metadata": {},
   "outputs": [
    {
     "name": "stdout",
     "output_type": "stream",
     "text": [
      "['el', 'perro', 'come', 'croquetas']\n"
     ]
    }
   ],
   "source": [
    "oracion = oracion.lower()\n",
    "vector_oracion = oracion.split()\n",
    "print(vector_oracion)"
   ]
  },
  {
   "cell_type": "code",
   "execution_count": 37,
   "id": "aa27322f",
   "metadata": {},
   "outputs": [
    {
     "data": {
      "text/plain": [
       "['perro', 'come', 'croquetas']"
      ]
     },
     "execution_count": 37,
     "metadata": {},
     "output_type": "execute_result"
    }
   ],
   "source": [
    "tokens = list()\n",
    "\n",
    "for token in vector_oracion:\n",
    "    if not token in stopwords:\n",
    "        tokens.append(token)\n",
    "\n",
    "tokens"
   ]
  },
  {
   "cell_type": "code",
   "execution_count": null,
   "id": "0136c658",
   "metadata": {},
   "outputs": [],
   "source": []
  }
 ],
 "metadata": {
  "kernelspec": {
   "display_name": ".venv",
   "language": "python",
   "name": "python3"
  },
  "language_info": {
   "codemirror_mode": {
    "name": "ipython",
    "version": 3
   },
   "file_extension": ".py",
   "mimetype": "text/x-python",
   "name": "python",
   "nbconvert_exporter": "python",
   "pygments_lexer": "ipython3",
   "version": "3.13.3"
  }
 },
 "nbformat": 4,
 "nbformat_minor": 5
}
